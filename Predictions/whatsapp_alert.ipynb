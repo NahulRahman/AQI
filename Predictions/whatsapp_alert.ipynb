{
 "cells": [
  {
   "cell_type": "markdown",
   "id": "4a0e2d7a",
   "metadata": {},
   "source": [
    "# Whatsapp Alet message sent"
   ]
  },
  {
   "cell_type": "raw",
   "id": "bf9bda15",
   "metadata": {},
   "source": [
    "Mainly there are 2 ways I have edited in order to send the message to the persons minimum 7 days of AQI prediction value. that are"
   ]
  },
  {
   "cell_type": "raw",
   "id": "d86542f8",
   "metadata": {},
   "source": [
    "1. Mainly in this method via whatsapp web each message will be sent, it is not automatic, some manual work, like pusing send button needs to be done, this also sjhows performance lag issue and is a bit slow. "
   ]
  },
  {
   "cell_type": "code",
   "execution_count": null,
   "id": "904cc74f",
   "metadata": {},
   "outputs": [],
   "source": [
    "# Install pywhatkit if not already installed\n",
    "# pip install pywhatkit\n",
    "\n",
    "import pywhatkit as kit\n",
    "import time\n",
    "\n",
    "# List of phone numbers (with country code)\n",
    "phone_numbers = [\n",
    "    \"+8801741334838\",\n",
    "    \"+8801533132760\",\n",
    "    \"+8801706211024\"\n",
    "]\n",
    "\n",
    "# The message to be sent\n",
    "message = \"Hello from Python! This is an instant WhatsApp message.\"\n",
    "\n",
    "# Loop through each number and send the message\n",
    "for phone_number in phone_numbers:\n",
    "    try:\n",
    "        kit.sendwhatmsg_instantly(phone_number, message)\n",
    "        print(f\"Message sent to {phone_number}\")\n",
    "        # Add a short delay between sending messages to avoid issues\n",
    "        time.sleep(10)  # Adjust the time delay if needed\n",
    "    except Exception as e:\n",
    "        print(f\"Failed to send message to {phone_number}. Error: {str(e)}\")\n"
   ]
  },
  {
   "cell_type": "code",
   "execution_count": null,
   "id": "5d125e90",
   "metadata": {},
   "outputs": [],
   "source": [
    "2. But the next one is automatic, but it has some conditions\n",
    "- it is only applicable for groups\n",
    "- whatsapp needs to be open before running it\n",
    "- it shows some time lag issue for multiple groups due to sleep() function\n",
    "- All of the work, searching, selecting the group, texting message for the group and sending the text, everything is automatc. "
   ]
  },
  {
   "cell_type": "code",
   "execution_count": null,
   "id": "9161137f",
   "metadata": {},
   "outputs": [],
   "source": [
    "import pyautogui\n",
    "import time\n",
    "\n",
    "# Group names to send messages to\n",
    "group_names = [\n",
    "    \"Tour pic + number list\",  # Replace with the actual group name\n",
    "    #\"Sec A General Discussion\",  # Replace with the actual group name\n",
    "]\n",
    "\n",
    "# The message to be sent\n",
    "message = \"Hello everyone! glixhjvhuzhvuzdh;puribi;lhbpr\"\n",
    "\n",
    "# Delay to allow time for switching to WhatsApp desktop\n",
    "print(\"Please open WhatsApp desktop. Starting in 5 seconds...\")\n",
    "time.sleep(5)\n",
    "\n",
    "# Loop through each group and send the message\n",
    "for group_name in group_names:\n",
    "    try:\n",
    "        # Step 1: Search for the group\n",
    "        pyautogui.hotkey('ctrl', 'f')  # Opens the search bar in WhatsApp\n",
    "        time.sleep(1)  # Wait for the search bar to open\n",
    "        pyautogui.typewrite(group_name)  # Type the group name\n",
    "        time.sleep(2)  # Wait for the search results to load\n",
    "        pyautogui.press('enter')  # Open the group chat\n",
    "        time.sleep(2)  # Wait for the group chat to open\n",
    "\n",
    "        # Step 2: Type and send the message\n",
    "        pyautogui.typewrite(message)  # Type the message\n",
    "        pyautogui.press('enter')  # Send the message\n",
    "        print(f\"Message sent to group: {group_name}\")\n",
    "\n",
    "        # Add a delay before moving to the next group\n",
    "        time.sleep(5)\n",
    "    except Exception as e:\n",
    "        print(f\"Failed to send message to group {group_name}. Error: {str(e)}\")\n",
    "\n",
    "print(\"All messages sent!\")\n"
   ]
  },
  {
   "cell_type": "raw",
   "id": "f5ac52f9",
   "metadata": {},
   "source": [
    "Basically what I had thought of is, all the next 7 days predicted value would be stored in a variable, using the variables a porompt message to be made and sent to various groups."
   ]
  }
 ],
 "metadata": {
  "kernelspec": {
   "display_name": "Python 3 (ipykernel)",
   "language": "python",
   "name": "python3"
  },
  "language_info": {
   "codemirror_mode": {
    "name": "ipython",
    "version": 3
   },
   "file_extension": ".py",
   "mimetype": "text/x-python",
   "name": "python",
   "nbconvert_exporter": "python",
   "pygments_lexer": "ipython3",
   "version": "3.11.5"
  }
 },
 "nbformat": 4,
 "nbformat_minor": 5
}
